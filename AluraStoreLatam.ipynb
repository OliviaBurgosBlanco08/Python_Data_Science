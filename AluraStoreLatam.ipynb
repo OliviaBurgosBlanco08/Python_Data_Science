{
  "nbformat": 4,
  "nbformat_minor": 0,
  "metadata": {
    "colab": {
      "provenance": [],
      "include_colab_link": true
    },
    "kernelspec": {
      "name": "python3",
      "display_name": "Python 3"
    },
    "language_info": {
      "name": "python"
    }
  },
  "cells": [
    {
      "cell_type": "markdown",
      "metadata": {
        "id": "view-in-github",
        "colab_type": "text"
      },
      "source": [
        "<a href=\"https://colab.research.google.com/github/OliviaBurgosBlanco08/Python_Data_Science/blob/main/AluraStoreLatam.ipynb\" target=\"_parent\"><img src=\"https://colab.research.google.com/assets/colab-badge.svg\" alt=\"Open In Colab\"/></a>"
      ]
    },
    {
      "cell_type": "markdown",
      "source": [
        "### Importación de datos\n",
        "\n"
      ],
      "metadata": {
        "id": "RhEdWd9YUR6H"
      }
    },
    {
      "cell_type": "code",
      "execution_count": 108,
      "metadata": {
        "colab": {
          "base_uri": "https://localhost:8080/",
          "height": 400
        },
        "id": "T3EvaeQ_INIL",
        "outputId": "a5407c57-0745-475e-b562-18c949d8b305"
      },
      "outputs": [
        {
          "output_type": "execute_result",
          "data": {
            "text/plain": [
              "            Producto Categoría del Producto    Precio  Costo de envío  \\\n",
              "0  Asistente virtual           Electrónicos  164300.0          6900.0   \n",
              "1    Mesa de comedor                Muebles  192300.0          8400.0   \n",
              "2      Juego de mesa               Juguetes  209600.0         15900.0   \n",
              "3         Microondas      Electrodomésticos  757500.0         41000.0   \n",
              "4   Silla de oficina                Muebles  335200.0         20200.0   \n",
              "\n",
              "  Fecha de Compra         Vendedor Lugar de Compra  Calificación  \\\n",
              "0      16/01/2021      Pedro Gomez          Bogotá             4   \n",
              "1      18/05/2022  Beatriz Morales        Medellín             1   \n",
              "2      15/03/2021   Juan Fernandez       Cartagena             1   \n",
              "3      03/05/2022   Juan Fernandez            Cali             4   \n",
              "4      07/11/2020    Maria Alfonso        Medellín             5   \n",
              "\n",
              "       Método de pago  Cantidad de cuotas       lat       lon  \n",
              "0  Tarjeta de crédito                   8   4.60971 -74.08175  \n",
              "1  Tarjeta de crédito                   4   6.25184 -75.56359  \n",
              "2  Tarjeta de crédito                   1  10.39972 -75.51444  \n",
              "3               Nequi                   1   3.43722 -76.52250  \n",
              "4               Nequi                   1   6.25184 -75.56359  "
            ],
            "text/html": [
              "\n",
              "  <div id=\"df-adc3575b-93fe-4a2b-85e8-68f4b0d1a957\" class=\"colab-df-container\">\n",
              "    <div>\n",
              "<style scoped>\n",
              "    .dataframe tbody tr th:only-of-type {\n",
              "        vertical-align: middle;\n",
              "    }\n",
              "\n",
              "    .dataframe tbody tr th {\n",
              "        vertical-align: top;\n",
              "    }\n",
              "\n",
              "    .dataframe thead th {\n",
              "        text-align: right;\n",
              "    }\n",
              "</style>\n",
              "<table border=\"1\" class=\"dataframe\">\n",
              "  <thead>\n",
              "    <tr style=\"text-align: right;\">\n",
              "      <th></th>\n",
              "      <th>Producto</th>\n",
              "      <th>Categoría del Producto</th>\n",
              "      <th>Precio</th>\n",
              "      <th>Costo de envío</th>\n",
              "      <th>Fecha de Compra</th>\n",
              "      <th>Vendedor</th>\n",
              "      <th>Lugar de Compra</th>\n",
              "      <th>Calificación</th>\n",
              "      <th>Método de pago</th>\n",
              "      <th>Cantidad de cuotas</th>\n",
              "      <th>lat</th>\n",
              "      <th>lon</th>\n",
              "    </tr>\n",
              "  </thead>\n",
              "  <tbody>\n",
              "    <tr>\n",
              "      <th>0</th>\n",
              "      <td>Asistente virtual</td>\n",
              "      <td>Electrónicos</td>\n",
              "      <td>164300.0</td>\n",
              "      <td>6900.0</td>\n",
              "      <td>16/01/2021</td>\n",
              "      <td>Pedro Gomez</td>\n",
              "      <td>Bogotá</td>\n",
              "      <td>4</td>\n",
              "      <td>Tarjeta de crédito</td>\n",
              "      <td>8</td>\n",
              "      <td>4.60971</td>\n",
              "      <td>-74.08175</td>\n",
              "    </tr>\n",
              "    <tr>\n",
              "      <th>1</th>\n",
              "      <td>Mesa de comedor</td>\n",
              "      <td>Muebles</td>\n",
              "      <td>192300.0</td>\n",
              "      <td>8400.0</td>\n",
              "      <td>18/05/2022</td>\n",
              "      <td>Beatriz Morales</td>\n",
              "      <td>Medellín</td>\n",
              "      <td>1</td>\n",
              "      <td>Tarjeta de crédito</td>\n",
              "      <td>4</td>\n",
              "      <td>6.25184</td>\n",
              "      <td>-75.56359</td>\n",
              "    </tr>\n",
              "    <tr>\n",
              "      <th>2</th>\n",
              "      <td>Juego de mesa</td>\n",
              "      <td>Juguetes</td>\n",
              "      <td>209600.0</td>\n",
              "      <td>15900.0</td>\n",
              "      <td>15/03/2021</td>\n",
              "      <td>Juan Fernandez</td>\n",
              "      <td>Cartagena</td>\n",
              "      <td>1</td>\n",
              "      <td>Tarjeta de crédito</td>\n",
              "      <td>1</td>\n",
              "      <td>10.39972</td>\n",
              "      <td>-75.51444</td>\n",
              "    </tr>\n",
              "    <tr>\n",
              "      <th>3</th>\n",
              "      <td>Microondas</td>\n",
              "      <td>Electrodomésticos</td>\n",
              "      <td>757500.0</td>\n",
              "      <td>41000.0</td>\n",
              "      <td>03/05/2022</td>\n",
              "      <td>Juan Fernandez</td>\n",
              "      <td>Cali</td>\n",
              "      <td>4</td>\n",
              "      <td>Nequi</td>\n",
              "      <td>1</td>\n",
              "      <td>3.43722</td>\n",
              "      <td>-76.52250</td>\n",
              "    </tr>\n",
              "    <tr>\n",
              "      <th>4</th>\n",
              "      <td>Silla de oficina</td>\n",
              "      <td>Muebles</td>\n",
              "      <td>335200.0</td>\n",
              "      <td>20200.0</td>\n",
              "      <td>07/11/2020</td>\n",
              "      <td>Maria Alfonso</td>\n",
              "      <td>Medellín</td>\n",
              "      <td>5</td>\n",
              "      <td>Nequi</td>\n",
              "      <td>1</td>\n",
              "      <td>6.25184</td>\n",
              "      <td>-75.56359</td>\n",
              "    </tr>\n",
              "  </tbody>\n",
              "</table>\n",
              "</div>\n",
              "    <div class=\"colab-df-buttons\">\n",
              "\n",
              "  <div class=\"colab-df-container\">\n",
              "    <button class=\"colab-df-convert\" onclick=\"convertToInteractive('df-adc3575b-93fe-4a2b-85e8-68f4b0d1a957')\"\n",
              "            title=\"Convert this dataframe to an interactive table.\"\n",
              "            style=\"display:none;\">\n",
              "\n",
              "  <svg xmlns=\"http://www.w3.org/2000/svg\" height=\"24px\" viewBox=\"0 -960 960 960\">\n",
              "    <path d=\"M120-120v-720h720v720H120Zm60-500h600v-160H180v160Zm220 220h160v-160H400v160Zm0 220h160v-160H400v160ZM180-400h160v-160H180v160Zm440 0h160v-160H620v160ZM180-180h160v-160H180v160Zm440 0h160v-160H620v160Z\"/>\n",
              "  </svg>\n",
              "    </button>\n",
              "\n",
              "  <style>\n",
              "    .colab-df-container {\n",
              "      display:flex;\n",
              "      gap: 12px;\n",
              "    }\n",
              "\n",
              "    .colab-df-convert {\n",
              "      background-color: #E8F0FE;\n",
              "      border: none;\n",
              "      border-radius: 50%;\n",
              "      cursor: pointer;\n",
              "      display: none;\n",
              "      fill: #1967D2;\n",
              "      height: 32px;\n",
              "      padding: 0 0 0 0;\n",
              "      width: 32px;\n",
              "    }\n",
              "\n",
              "    .colab-df-convert:hover {\n",
              "      background-color: #E2EBFA;\n",
              "      box-shadow: 0px 1px 2px rgba(60, 64, 67, 0.3), 0px 1px 3px 1px rgba(60, 64, 67, 0.15);\n",
              "      fill: #174EA6;\n",
              "    }\n",
              "\n",
              "    .colab-df-buttons div {\n",
              "      margin-bottom: 4px;\n",
              "    }\n",
              "\n",
              "    [theme=dark] .colab-df-convert {\n",
              "      background-color: #3B4455;\n",
              "      fill: #D2E3FC;\n",
              "    }\n",
              "\n",
              "    [theme=dark] .colab-df-convert:hover {\n",
              "      background-color: #434B5C;\n",
              "      box-shadow: 0px 1px 3px 1px rgba(0, 0, 0, 0.15);\n",
              "      filter: drop-shadow(0px 1px 2px rgba(0, 0, 0, 0.3));\n",
              "      fill: #FFFFFF;\n",
              "    }\n",
              "  </style>\n",
              "\n",
              "    <script>\n",
              "      const buttonEl =\n",
              "        document.querySelector('#df-adc3575b-93fe-4a2b-85e8-68f4b0d1a957 button.colab-df-convert');\n",
              "      buttonEl.style.display =\n",
              "        google.colab.kernel.accessAllowed ? 'block' : 'none';\n",
              "\n",
              "      async function convertToInteractive(key) {\n",
              "        const element = document.querySelector('#df-adc3575b-93fe-4a2b-85e8-68f4b0d1a957');\n",
              "        const dataTable =\n",
              "          await google.colab.kernel.invokeFunction('convertToInteractive',\n",
              "                                                    [key], {});\n",
              "        if (!dataTable) return;\n",
              "\n",
              "        const docLinkHtml = 'Like what you see? Visit the ' +\n",
              "          '<a target=\"_blank\" href=https://colab.research.google.com/notebooks/data_table.ipynb>data table notebook</a>'\n",
              "          + ' to learn more about interactive tables.';\n",
              "        element.innerHTML = '';\n",
              "        dataTable['output_type'] = 'display_data';\n",
              "        await google.colab.output.renderOutput(dataTable, element);\n",
              "        const docLink = document.createElement('div');\n",
              "        docLink.innerHTML = docLinkHtml;\n",
              "        element.appendChild(docLink);\n",
              "      }\n",
              "    </script>\n",
              "  </div>\n",
              "\n",
              "\n",
              "    <div id=\"df-604c545e-22a1-47a2-8cf9-f0f9b8cff89d\">\n",
              "      <button class=\"colab-df-quickchart\" onclick=\"quickchart('df-604c545e-22a1-47a2-8cf9-f0f9b8cff89d')\"\n",
              "                title=\"Suggest charts\"\n",
              "                style=\"display:none;\">\n",
              "\n",
              "<svg xmlns=\"http://www.w3.org/2000/svg\" height=\"24px\"viewBox=\"0 0 24 24\"\n",
              "     width=\"24px\">\n",
              "    <g>\n",
              "        <path d=\"M19 3H5c-1.1 0-2 .9-2 2v14c0 1.1.9 2 2 2h14c1.1 0 2-.9 2-2V5c0-1.1-.9-2-2-2zM9 17H7v-7h2v7zm4 0h-2V7h2v10zm4 0h-2v-4h2v4z\"/>\n",
              "    </g>\n",
              "</svg>\n",
              "      </button>\n",
              "\n",
              "<style>\n",
              "  .colab-df-quickchart {\n",
              "      --bg-color: #E8F0FE;\n",
              "      --fill-color: #1967D2;\n",
              "      --hover-bg-color: #E2EBFA;\n",
              "      --hover-fill-color: #174EA6;\n",
              "      --disabled-fill-color: #AAA;\n",
              "      --disabled-bg-color: #DDD;\n",
              "  }\n",
              "\n",
              "  [theme=dark] .colab-df-quickchart {\n",
              "      --bg-color: #3B4455;\n",
              "      --fill-color: #D2E3FC;\n",
              "      --hover-bg-color: #434B5C;\n",
              "      --hover-fill-color: #FFFFFF;\n",
              "      --disabled-bg-color: #3B4455;\n",
              "      --disabled-fill-color: #666;\n",
              "  }\n",
              "\n",
              "  .colab-df-quickchart {\n",
              "    background-color: var(--bg-color);\n",
              "    border: none;\n",
              "    border-radius: 50%;\n",
              "    cursor: pointer;\n",
              "    display: none;\n",
              "    fill: var(--fill-color);\n",
              "    height: 32px;\n",
              "    padding: 0;\n",
              "    width: 32px;\n",
              "  }\n",
              "\n",
              "  .colab-df-quickchart:hover {\n",
              "    background-color: var(--hover-bg-color);\n",
              "    box-shadow: 0 1px 2px rgba(60, 64, 67, 0.3), 0 1px 3px 1px rgba(60, 64, 67, 0.15);\n",
              "    fill: var(--button-hover-fill-color);\n",
              "  }\n",
              "\n",
              "  .colab-df-quickchart-complete:disabled,\n",
              "  .colab-df-quickchart-complete:disabled:hover {\n",
              "    background-color: var(--disabled-bg-color);\n",
              "    fill: var(--disabled-fill-color);\n",
              "    box-shadow: none;\n",
              "  }\n",
              "\n",
              "  .colab-df-spinner {\n",
              "    border: 2px solid var(--fill-color);\n",
              "    border-color: transparent;\n",
              "    border-bottom-color: var(--fill-color);\n",
              "    animation:\n",
              "      spin 1s steps(1) infinite;\n",
              "  }\n",
              "\n",
              "  @keyframes spin {\n",
              "    0% {\n",
              "      border-color: transparent;\n",
              "      border-bottom-color: var(--fill-color);\n",
              "      border-left-color: var(--fill-color);\n",
              "    }\n",
              "    20% {\n",
              "      border-color: transparent;\n",
              "      border-left-color: var(--fill-color);\n",
              "      border-top-color: var(--fill-color);\n",
              "    }\n",
              "    30% {\n",
              "      border-color: transparent;\n",
              "      border-left-color: var(--fill-color);\n",
              "      border-top-color: var(--fill-color);\n",
              "      border-right-color: var(--fill-color);\n",
              "    }\n",
              "    40% {\n",
              "      border-color: transparent;\n",
              "      border-right-color: var(--fill-color);\n",
              "      border-top-color: var(--fill-color);\n",
              "    }\n",
              "    60% {\n",
              "      border-color: transparent;\n",
              "      border-right-color: var(--fill-color);\n",
              "    }\n",
              "    80% {\n",
              "      border-color: transparent;\n",
              "      border-right-color: var(--fill-color);\n",
              "      border-bottom-color: var(--fill-color);\n",
              "    }\n",
              "    90% {\n",
              "      border-color: transparent;\n",
              "      border-bottom-color: var(--fill-color);\n",
              "    }\n",
              "  }\n",
              "</style>\n",
              "\n",
              "      <script>\n",
              "        async function quickchart(key) {\n",
              "          const quickchartButtonEl =\n",
              "            document.querySelector('#' + key + ' button');\n",
              "          quickchartButtonEl.disabled = true;  // To prevent multiple clicks.\n",
              "          quickchartButtonEl.classList.add('colab-df-spinner');\n",
              "          try {\n",
              "            const charts = await google.colab.kernel.invokeFunction(\n",
              "                'suggestCharts', [key], {});\n",
              "          } catch (error) {\n",
              "            console.error('Error during call to suggestCharts:', error);\n",
              "          }\n",
              "          quickchartButtonEl.classList.remove('colab-df-spinner');\n",
              "          quickchartButtonEl.classList.add('colab-df-quickchart-complete');\n",
              "        }\n",
              "        (() => {\n",
              "          let quickchartButtonEl =\n",
              "            document.querySelector('#df-604c545e-22a1-47a2-8cf9-f0f9b8cff89d button');\n",
              "          quickchartButtonEl.style.display =\n",
              "            google.colab.kernel.accessAllowed ? 'block' : 'none';\n",
              "        })();\n",
              "      </script>\n",
              "    </div>\n",
              "\n",
              "    </div>\n",
              "  </div>\n"
            ],
            "application/vnd.google.colaboratory.intrinsic+json": {
              "type": "dataframe",
              "variable_name": "tienda",
              "summary": "{\n  \"name\": \"tienda\",\n  \"rows\": 2359,\n  \"fields\": [\n    {\n      \"column\": \"Producto\",\n      \"properties\": {\n        \"dtype\": \"category\",\n        \"num_unique_values\": 51,\n        \"samples\": [\n          \"Guitarra ac\\u00fastica\",\n          \"Bal\\u00f3n de baloncesto\",\n          \"Smartwatch\"\n        ],\n        \"semantic_type\": \"\",\n        \"description\": \"\"\n      }\n    },\n    {\n      \"column\": \"Categor\\u00eda del Producto\",\n      \"properties\": {\n        \"dtype\": \"category\",\n        \"num_unique_values\": 8,\n        \"samples\": [\n          \"Muebles\",\n          \"Deportes y diversi\\u00f3n\",\n          \"Electr\\u00f3nicos\"\n        ],\n        \"semantic_type\": \"\",\n        \"description\": \"\"\n      }\n    },\n    {\n      \"column\": \"Precio\",\n      \"properties\": {\n        \"dtype\": \"number\",\n        \"std\": 614686.7653873172,\n        \"min\": 7600.0,\n        \"max\": 2977000.0,\n        \"num_unique_values\": 1937,\n        \"samples\": [\n          2499400.0,\n          14800.0,\n          80500.0\n        ],\n        \"semantic_type\": \"\",\n        \"description\": \"\"\n      }\n    },\n    {\n      \"column\": \"Costo de env\\u00edo\",\n      \"properties\": {\n        \"dtype\": \"number\",\n        \"std\": 32860.0017825605,\n        \"min\": 0.0,\n        \"max\": 160800.0,\n        \"num_unique_values\": 753,\n        \"samples\": [\n          117800.0,\n          54700.0,\n          45600.0\n        ],\n        \"semantic_type\": \"\",\n        \"description\": \"\"\n      }\n    },\n    {\n      \"column\": \"Fecha de Compra\",\n      \"properties\": {\n        \"dtype\": \"object\",\n        \"num_unique_values\": 1018,\n        \"samples\": [\n          \"15/09/2022\",\n          \"03/06/2020\",\n          \"06/11/2021\"\n        ],\n        \"semantic_type\": \"\",\n        \"description\": \"\"\n      }\n    },\n    {\n      \"column\": \"Vendedor\",\n      \"properties\": {\n        \"dtype\": \"category\",\n        \"num_unique_values\": 14,\n        \"samples\": [\n          \"Juliana Costa\",\n          \"Mariana Herrera\",\n          \"Pedro Gomez\"\n        ],\n        \"semantic_type\": \"\",\n        \"description\": \"\"\n      }\n    },\n    {\n      \"column\": \"Lugar de Compra\",\n      \"properties\": {\n        \"dtype\": \"category\",\n        \"num_unique_values\": 19,\n        \"samples\": [\n          \"Bogot\\u00e1\",\n          \"Pereira\",\n          \"Neiva\"\n        ],\n        \"semantic_type\": \"\",\n        \"description\": \"\"\n      }\n    },\n    {\n      \"column\": \"Calificaci\\u00f3n\",\n      \"properties\": {\n        \"dtype\": \"number\",\n        \"std\": 1,\n        \"min\": 1,\n        \"max\": 5,\n        \"num_unique_values\": 5,\n        \"samples\": [\n          1,\n          2,\n          5\n        ],\n        \"semantic_type\": \"\",\n        \"description\": \"\"\n      }\n    },\n    {\n      \"column\": \"M\\u00e9todo de pago\",\n      \"properties\": {\n        \"dtype\": \"category\",\n        \"num_unique_values\": 4,\n        \"samples\": [\n          \"Nequi\",\n          \"Tarjeta de d\\u00e9bito\",\n          \"Tarjeta de cr\\u00e9dito\"\n        ],\n        \"semantic_type\": \"\",\n        \"description\": \"\"\n      }\n    },\n    {\n      \"column\": \"Cantidad de cuotas\",\n      \"properties\": {\n        \"dtype\": \"number\",\n        \"std\": 2,\n        \"min\": 1,\n        \"max\": 24,\n        \"num_unique_values\": 15,\n        \"samples\": [\n          7,\n          14,\n          8\n        ],\n        \"semantic_type\": \"\",\n        \"description\": \"\"\n      }\n    },\n    {\n      \"column\": \"lat\",\n      \"properties\": {\n        \"dtype\": \"number\",\n        \"std\": 2.2874452492678627,\n        \"min\": -4.21528,\n        \"max\": 11.54444,\n        \"num_unique_values\": 19,\n        \"samples\": [\n          4.60971,\n          4.81333,\n          2.9273\n        ],\n        \"semantic_type\": \"\",\n        \"description\": \"\"\n      }\n    },\n    {\n      \"column\": \"lon\",\n      \"properties\": {\n        \"dtype\": \"number\",\n        \"std\": 1.2178272727088486,\n        \"min\": -77.28111,\n        \"max\": -67.9239,\n        \"num_unique_values\": 19,\n        \"samples\": [\n          -74.08175,\n          -75.69611,\n          -75.28189\n        ],\n        \"semantic_type\": \"\",\n        \"description\": \"\"\n      }\n    }\n  ]\n}"
            }
          },
          "metadata": {},
          "execution_count": 108
        }
      ],
      "source": [
        "import pandas as pd\n",
        "\n",
        "url = \"https://raw.githubusercontent.com/alura-es-cursos/challenge1-data-science-latam/refs/heads/main/base-de-datos-challenge1-latam/tienda_1%20.csv\"\n",
        "url2 = \"https://raw.githubusercontent.com/alura-es-cursos/challenge1-data-science-latam/refs/heads/main/base-de-datos-challenge1-latam/tienda_2.csv\"\n",
        "url3 = \"https://raw.githubusercontent.com/alura-es-cursos/challenge1-data-science-latam/refs/heads/main/base-de-datos-challenge1-latam/tienda_3.csv\"\n",
        "url4 = \"https://raw.githubusercontent.com/alura-es-cursos/challenge1-data-science-latam/refs/heads/main/base-de-datos-challenge1-latam/tienda_4.csv\"\n",
        "\n",
        "tienda = pd.read_csv(url)\n",
        "tienda2 = pd.read_csv(url2)\n",
        "tienda3 = pd.read_csv(url3)\n",
        "tienda4 = pd.read_csv(url4)\n",
        "\n",
        "tienda.head()"
      ]
    },
    {
      "cell_type": "markdown",
      "source": [
        "#1. Análisis de facturación\n",
        "\n"
      ],
      "metadata": {
        "id": "X62IW3KFUIYm"
      }
    },
    {
      "cell_type": "code",
      "source": [
        "\n",
        "\n",
        "# Crear columna de facturación (precio + costo de envío)\n",
        "tienda[\"Facturación\"] = tienda[\"Precio\"] + tienda[\"Costo de envío\"]\n",
        "\n",
        "# Agrupar por tienda y sumar la facturación\n",
        "facturacion_por_tienda = tienda.groupby(\"Lugar de Compra\")[\"Facturación\"].sum().sort_values(ascending=False)\n",
        "\n",
        "# Mostrar resultados\n",
        "print(\"Facturación total por tienda:\")\n",
        "print(facturacion_por_tienda)"
      ],
      "metadata": {
        "id": "xykobSftV64I",
        "colab": {
          "base_uri": "https://localhost:8080/"
        },
        "outputId": "25b037cd-ebea-4fe0-e652-a44fa22fc736"
      },
      "execution_count": 109,
      "outputs": [
        {
          "output_type": "stream",
          "name": "stdout",
          "text": [
            "Facturación total por tienda:\n",
            "Lugar de Compra\n",
            "Bogotá           463439800.0\n",
            "Medellín         312738700.0\n",
            "Cali             162651900.0\n",
            "Pereira           59194000.0\n",
            "Cúcuta            39926100.0\n",
            "Barranquilla      34685800.0\n",
            "Cartagena         23495800.0\n",
            "Riohacha          19487000.0\n",
            "Bucaramanga       18527400.0\n",
            "Pasto             15803200.0\n",
            "Leticia           15452200.0\n",
            "Santa Marta       13921300.0\n",
            "Manizales          8464700.0\n",
            "Villavicencio      7543700.0\n",
            "Armenia            4858100.0\n",
            "Soacha             4343100.0\n",
            "Neiva              3683100.0\n",
            "Inírida            2864800.0\n",
            "Valledupar         1177600.0\n",
            "Name: Facturación, dtype: float64\n"
          ]
        }
      ]
    },
    {
      "cell_type": "code",
      "source": [
        "import matplotlib.pyplot as plt\n",
        "\n",
        "# 1. Asegúrate de tener el DataFrame con la columna 'Facturación' y la etiqueta de tienda:\n",
        "tienda[\"Facturación\"] = tienda[\"Precio\"] + tienda[\"Costo de envío\"]\n",
        "tienda[\"Tienda\"] = tienda[\"Lugar de Compra\"]\n",
        "\n",
        "# 2. Calcula la facturación total por tienda:\n",
        "facturacion_total = tienda.groupby(\"Tienda\")[\"Facturación\"].sum()\n",
        "\n",
        "# 3. Dibuja el gráfico de barras:\n",
        "plt.figure(figsize=(8, 5))\n",
        "plt.bar(facturacion_total.index, facturacion_total.values)\n",
        "plt.title(\"Facturación Total por Tienda\")\n",
        "plt.xlabel(\"Tienda\")\n",
        "plt.ylabel(\"Facturación Total\")\n",
        "plt.xticks(rotation=45)\n",
        "plt.tight_layout()\n",
        "plt.show()\n"
      ],
      "metadata": {
        "colab": {
          "base_uri": "https://localhost:8080/",
          "height": 471
        },
        "id": "tSvDxHl2zJ6W",
        "outputId": "3003badd-c0e5-47cd-fa0a-894ae48165f4"
      },
      "execution_count": 110,
      "outputs": [
        {
          "output_type": "display_data",
          "data": {
            "text/plain": [
              "<Figure size 800x500 with 1 Axes>"
            ],
            "image/png": "[encoded data removed]"
          },
          "metadata": {}
        }
      ]
    },
    {
      "cell_type": "markdown",
      "source": [
        "# 2. Ventas por categoría"
      ],
      "metadata": {
        "id": "2V_vcAPzWZmR"
      }
    },
    {
      "cell_type": "code",
      "source": [
        " # Contar cuántas veces se vendió cada categoría por tienda\n",
        "ventas_categoria = tienda.groupby([\"Lugar de Compra\", \"Categoría del Producto\"]).size().reset_index(name=\"Cantidad de Ventas\")\n",
        "\n",
        "# Ordenar por tienda y cantidad de ventas\n",
        "ventas_categoria = ventas_categoria.sort_values(by=[\"Lugar de Compra\", \"Cantidad de Ventas\"], ascending=[True, False])\n",
        "\n",
        "# Mostrar el top 1 por tienda (categoría más popular por tienda)\n",
        "top_categoria_por_tienda = ventas_categoria.groupby(\"Lugar de Compra\").first().reset_index()\n",
        "\n",
        "print(\"Categoría más vendida por tienda:\")\n",
        "print(top_categoria_por_tienda)"
      ],
      "metadata": {
        "id": "A34YupIuYhfF",
        "colab": {
          "base_uri": "https://localhost:8080/"
        },
        "outputId": "decf1f0b-5382-45a3-b7f2-16a2ca7fddbd"
      },
      "execution_count": 111,
      "outputs": [
        {
          "output_type": "stream",
          "name": "stdout",
          "text": [
            "Categoría más vendida por tienda:\n",
            "   Lugar de Compra   Categoría del Producto  Cantidad de Ventas\n",
            "0          Armenia                  Muebles                   4\n",
            "1     Barranquilla             Electrónicos                  14\n",
            "2           Bogotá                  Muebles                 195\n",
            "3      Bucaramanga                 Juguetes                   8\n",
            "4             Cali             Electrónicos                  67\n",
            "5        Cartagena                  Muebles                  11\n",
            "6           Cúcuta             Electrónicos                  13\n",
            "7          Inírida   Instrumentos musicales                   2\n",
            "8          Leticia        Electrodomésticos                   9\n",
            "9        Manizales             Electrónicos                   4\n",
            "10        Medellín             Electrónicos                 123\n",
            "11           Neiva                  Muebles                   3\n",
            "12           Pasto     Deportes y diversión                   5\n",
            "13         Pereira                  Muebles                  31\n",
            "14        Riohacha             Electrónicos                  12\n",
            "15     Santa Marta  Artículos para el hogar                   6\n",
            "16          Soacha     Deportes y diversión                   2\n",
            "17      Valledupar                  Muebles                   2\n",
            "18   Villavicencio                  Muebles                   4\n"
          ]
        }
      ]
    },
    {
      "cell_type": "markdown",
      "source": [
        "# 3. Calificación promedio de la tienda\n"
      ],
      "metadata": {
        "id": "Rq6tU_xSY3jk"
      }
    },
    {
      "cell_type": "code",
      "source": [
        " # Agrupar por tienda y calcular la media de la calificación\n",
        "calificacion_promedio = tienda.groupby(\"Lugar de Compra\")[\"Calificación\"].mean().round(2)\n",
        "\n",
        "# Mostrar resultados\n",
        "print(\" Calificación promedio por tienda:\")\n",
        "print(calificacion_promedio)\n",
        "\n",
        ""
      ],
      "metadata": {
        "id": "bh3jjjJwY5MU",
        "colab": {
          "base_uri": "https://localhost:8080/"
        },
        "outputId": "0a637a77-f3b7-48b6-8d17-306dbc90ebd6"
      },
      "execution_count": 112,
      "outputs": [
        {
          "output_type": "stream",
          "name": "stdout",
          "text": [
            " Calificación promedio por tienda:\n",
            "Lugar de Compra\n",
            "Armenia          3.36\n",
            "Barranquilla     3.57\n",
            "Bogotá           4.09\n",
            "Bucaramanga      4.39\n",
            "Cali             3.99\n",
            "Cartagena        4.04\n",
            "Cúcuta           3.88\n",
            "Inírida          4.00\n",
            "Leticia          4.16\n",
            "Manizales        3.80\n",
            "Medellín         3.87\n",
            "Neiva            4.50\n",
            "Pasto            4.04\n",
            "Pereira          3.95\n",
            "Riohacha         3.45\n",
            "Santa Marta      3.75\n",
            "Soacha           4.60\n",
            "Valledupar       2.67\n",
            "Villavicencio    4.09\n",
            "Name: Calificación, dtype: float64\n"
          ]
        }
      ]
    },
    {
      "cell_type": "markdown",
      "source": [
        "# 4. Productos más y menos vendidos"
      ],
      "metadata": {
        "id": "DmNp1KPBZCm-"
      }
    },
    {
      "cell_type": "code",
      "source": [
        "# Contar cuántas veces se vendió cada producto en cada tienda\n",
        "\n",
        "ventas_productos = tienda.groupby([\"Lugar de Compra\", \"Producto\"]).size().reset_index(name=\"Cantidad de Ventas\")\n",
        "\n",
        "# Obtener los productos más vendidos por tienda\n",
        "productos_mas_vendidos = ventas_productos.sort_values([\"Lugar de Compra\", \"Cantidad de Ventas\"], ascending=[True, False])\n",
        "top_mas_vendidos = productos_mas_vendidos.groupby(\"Lugar de Compra\").first().reset_index()\n",
        "\n",
        "# Obtener los productos menos vendidos por tienda\n",
        "productos_menos_vendidos = ventas_productos.sort_values([\"Lugar de Compra\", \"Cantidad de Ventas\"], ascending=[True, True])\n",
        "top_menos_vendidos = productos_menos_vendidos.groupby(\"Lugar de Compra\").first().reset_index()\n",
        "\n",
        "# Mostrar resultados\n",
        "print(\"Productos más vendidos por tienda:\")\n",
        "print(top_mas_vendidos)\n",
        "\n",
        "print(\"\\n Productos menos vendidos por tienda:\")\n",
        "print(top_menos_vendidos)\n",
        "\n",
        ""
      ],
      "metadata": {
        "id": "qoyjqijQZHfF",
        "colab": {
          "base_uri": "https://localhost:8080/"
        },
        "outputId": "d426fabf-a1a1-4b25-990b-86caa81d0575"
      },
      "execution_count": 113,
      "outputs": [
        {
          "output_type": "stream",
          "name": "stdout",
          "text": [
            "Productos más vendidos por tienda:\n",
            "   Lugar de Compra                   Producto  Cantidad de Ventas\n",
            "0          Armenia           Silla de oficina                   2\n",
            "1     Barranquilla                 Cubertería                   4\n",
            "2           Bogotá               Vaso térmico                  30\n",
            "3      Bucaramanga        Balón de baloncesto                   3\n",
            "4             Cali               Refrigerador                  10\n",
            "5        Cartagena           Silla de oficina                   4\n",
            "6           Cúcuta                  Iphone 15                   4\n",
            "7          Inírida  Auriculares con micrófono                   1\n",
            "8          Leticia                     Estufa                   4\n",
            "9        Manizales                   Smart TV                   2\n",
            "10        Medellín                Auriculares                  19\n",
            "11           Neiva                    Armario                   1\n",
            "12           Pasto           Lavadora de ropa                   3\n",
            "13         Pereira                    Armario                   7\n",
            "14        Riohacha         Guitarra eléctrica                   3\n",
            "15     Santa Marta    Bloques de construcción                   2\n",
            "16          Soacha                  Cama king                   1\n",
            "17      Valledupar                Auriculares                   1\n",
            "18   Villavicencio                   Cama box                   4\n",
            "\n",
            " Productos menos vendidos por tienda:\n",
            "   Lugar de Compra                   Producto  Cantidad de Ventas\n",
            "0          Armenia    Bloques de construcción                   1\n",
            "1     Barranquilla                Auriculares                   1\n",
            "2           Bogotá  Auriculares con micrófono                   8\n",
            "3      Bucaramanga  Auriculares con micrófono                   1\n",
            "4             Cali            Olla de presión                   1\n",
            "5        Cartagena          Ajedrez de madera                   1\n",
            "6           Cúcuta  Auriculares con micrófono                   1\n",
            "7          Inírida  Auriculares con micrófono                   1\n",
            "8          Leticia                    Armario                   1\n",
            "9        Manizales                    Armario                   1\n",
            "10        Medellín                 Cubertería                   4\n",
            "11           Neiva                    Armario                   1\n",
            "12           Pasto                    Armario                   1\n",
            "13         Pereira                  Impresora                   1\n",
            "14        Riohacha        Balón de baloncesto                   1\n",
            "15     Santa Marta          Ajedrez de madera                   1\n",
            "16          Soacha                  Cama king                   1\n",
            "17      Valledupar                Auriculares                   1\n",
            "18   Villavicencio    Bloques de construcción                   1\n"
          ]
        }
      ]
    },
    {
      "cell_type": "markdown",
      "source": [
        "# 5. Envío promedio por tienda"
      ],
      "metadata": {
        "id": "Fl0cGi3bZKqU"
      }
    },
    {
      "cell_type": "code",
      "source": [
        "# Calcular el costo promedio de envío por tienda (Lugar de Compra)\n",
        "costo_envio_por_tienda = tienda.groupby(\"Lugar de Compra\")[\"Costo de envío\"].mean().round(2).reset_index()\n",
        "\n",
        "print(\"Costo promedio de envío por tienda:\")\n",
        "print(costo_envio_por_tienda)\n"
      ],
      "metadata": {
        "id": "0tSdCie9ZQlt",
        "colab": {
          "base_uri": "https://localhost:8080/"
        },
        "outputId": "cbb7fc1c-4684-4dbf-fd26-bbdfd8ad05e3"
      },
      "execution_count": 114,
      "outputs": [
        {
          "output_type": "stream",
          "name": "stdout",
          "text": [
            "Costo promedio de envío por tienda:\n",
            "   Lugar de Compra  Costo de envío\n",
            "0          Armenia        17314.29\n",
            "1     Barranquilla        23708.00\n",
            "2           Bogotá        23815.85\n",
            "3      Bucaramanga        30587.10\n",
            "4             Cali        28827.56\n",
            "5        Cartagena        22624.53\n",
            "6           Cúcuta        40129.41\n",
            "7          Inírida        28460.00\n",
            "8          Leticia        24450.00\n",
            "9        Manizales        29140.00\n",
            "10        Medellín        28207.10\n",
            "11           Neiva        31516.67\n",
            "12           Pasto        35078.26\n",
            "13         Pereira        22403.76\n",
            "14        Riohacha        24357.50\n",
            "15     Santa Marta        22593.75\n",
            "16          Soacha        43420.00\n",
            "17      Valledupar        18766.67\n",
            "18   Villavicencio        34709.09\n"
          ]
        }
      ]
    },
    {
      "cell_type": "code",
      "source": [
        "import matplotlib.pyplot as plt\n",
        "\n",
        "# 1. Calcula el costo promedio de envío por tienda\n",
        "envio_prom = tienda.groupby(\"Tienda\")[\"Costo de envío\"].mean().round(2)\n",
        "\n",
        "# 2. Dibuja el gráfico de barras\n",
        "plt.figure(figsize=(8, 5))\n",
        "plt.bar(envio_prom.index, envio_prom.values)\n",
        "plt.title(\"Costo Promedio de Envío por Tienda\")\n",
        "plt.xlabel(\"Tienda\")\n",
        "plt.ylabel(\"Costo Promedio de Envío\")\n",
        "plt.xticks(rotation=45)\n",
        "plt.tight_layout()\n",
        "plt.show()\n"
      ],
      "metadata": {
        "colab": {
          "base_uri": "https://localhost:8080/",
          "height": 471
        },
        "id": "qtW-lwNq1wCE",
        "outputId": "6c9c13c7-c012-45fc-fe62-6c861e75054e"
      },
      "execution_count": 115,
      "outputs": [
        {
          "output_type": "display_data",
          "data": {
            "text/plain": [
              "<Figure size 800x500 with 1 Axes>"
            ],
            "image/png": "[encoded data removed]"
          },
          "metadata": {}
        }
      ]
    },
    {
      "cell_type": "code",
      "source": [
        "# CONCLUSIÓN FINAL\n",
        "print(\"\\n==========CONCLUSIÓN:==========\")\n",
        "print(\"\"\"\n",
        "La tienda con menor desempeño en los 5 factores clave es **Valledupar**:\n",
        "\n",
        "====Facturación total====\n",
        "\n",
        "-Valledupar: $1 177 600\n",
        "-(Inírida --la --segunda-- mas-- baja -- factura $2 864 800 — ¡más del doble!\n",
        "\n",
        "-Volumen de ventas:\n",
        "Sólo 2 ventas en su categoría top y 1 venta en su producto top.\n",
        "Las demás tiendas registran decenas o centenas de transacciones.\n",
        "\n",
        "-Calificación promedio:\n",
        "Valledupar: 2.67 (la más baja de las cuatro)\n",
        "Las otras oscilan entre 3.87 (Medellín) y 4.09 (Bogotá).\n",
        "\n",
        "-Productos más/menos vendidos:\n",
        "El único producto (Auriculares) vendió 1 unidad y es también el “menos vendido” (empatado).\n",
        "Ninguna otra tienda tiene un “top” con un solo ejemplar.\n",
        "\n",
        "-Costo de envío promedio:\n",
        "Valledupar: $18 766,67 (moderado), pero al compararlo con su escasa demanda no compensa.\n",
        "\n",
        "****Conclusión cuantitativa:****\n",
        "*Facturación: 4× menor que la segunda peor.\n",
        "*Calidad percibida (rating) muy por debajo de 3 estrellas.\n",
        "*Demanda casi nula.\n",
        "\n",
        "Todos estos datos convergen en que Valledupar es la más débil y, por tanto,\n",
        " la tienda que menos aporte de lucro genera. Venderla liberaría recursos para\n",
        "  focalizarte en mercados con mejor desempeño.\n",
        "\n",
        "\n",
        " Recomendación: El Sr. Juan debería considerar vender la tienda de Valledupar para\n",
        " reinvertir en su nuevo negocio.\n",
        "\"\"\")"
      ],
      "metadata": {
        "colab": {
          "base_uri": "https://localhost:8080/"
        },
        "id": "wS0rh6m9bdKA",
        "outputId": "f462342a-9ca4-4bd8-a8cd-0b6fc4f2c05b"
      },
      "execution_count": 119,
      "outputs": [
        {
          "output_type": "stream",
          "name": "stdout",
          "text": [
            "\n",
            "==========CONCLUSIÓN:==========\n",
            "\n",
            "La tienda con menor desempeño en los 5 factores clave es **Valledupar**:\n",
            "\n",
            "====Facturación total====\n",
            "\n",
            "-Valledupar: $1 177 600\n",
            "-(Inírida la segunda mas baja -- factura $2 864 800 — ¡más del doble!\n",
            "\n",
            "-Volumen de ventas:\n",
            "Sólo 2 ventas en su categoría top y 1 venta en su producto top.\n",
            "Las demás tiendas registran decenas o centenas de transacciones.\n",
            "\n",
            "-Calificación promedio:\n",
            "Valledupar: 2.67 (la más baja de las cuatro)\n",
            "Las otras oscilan entre 3.87 (Medellín) y 4.09 (Bogotá).\n",
            "\n",
            "-Productos más/menos vendidos:\n",
            "El único producto (Auriculares) vendió 1 unidad y es también el “menos vendido” (empatado).\n",
            "Ninguna otra tienda tiene un “top” con un solo ejemplar.\n",
            "\n",
            "-Costo de envío promedio:\n",
            "Valledupar: $18 766,67 (moderado), pero al compararlo con su escasa demanda no compensa.\n",
            "\n",
            "****Conclusión cuantitativa:****\n",
            "*Facturación: 4× menor que la segunda peor.\n",
            "*Calidad percibida (rating) muy por debajo de 3 estrellas.\n",
            "*Demanda casi nula.\n",
            "\n",
            "Todos estos datos convergen en que Valledupar es la más débil y, por tanto,\n",
            " la tienda que menos aporte de lucro genera. Venderla liberaría recursos para\n",
            "  focalizarte en mercados con mejor desempeño.\n",
            " \n",
            "\n",
            " Recomendación: El Sr. Juan debería considerar vender la tienda de Valledupar para \n",
            " reinvertir en su nuevo negocio.\n",
            "\n"
          ]
        }
      ]
    }
  ]
}